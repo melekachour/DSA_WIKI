{
 "cells": [
  {
   "cell_type": "code",
   "execution_count": 2,
   "metadata": {},
   "outputs": [
    {
     "name": "stdout",
     "output_type": "stream",
     "text": [
      "Collecting paramiko\n",
      "  Downloading https://files.pythonhosted.org/packages/06/1e/1e08baaaf6c3d3df1459fd85f0e7d2d6aa916f33958f151ee1ecc9800971/paramiko-2.7.1-py2.py3-none-any.whl (206kB)\n",
      "Collecting bcrypt>=3.1.3 (from paramiko)\n",
      "  Downloading https://files.pythonhosted.org/packages/60/74/77573c2ee48a7f9fcd72677c43d7be1958db2c62a27602c511907d4dc058/bcrypt-3.1.7-cp36-cp36m-win_amd64.whl\n",
      "Collecting pynacl>=1.0.1 (from paramiko)\n",
      "  Downloading https://files.pythonhosted.org/packages/b5/0f/5f21bd04c8f45685c7b72013fc8efaf0e25baf3b77e62b3b915b5b43a7b6/PyNaCl-1.3.0-cp36-cp36m-win_amd64.whl (188kB)\n",
      "Requirement already satisfied: cryptography>=2.5 in c:\\users\\ahmed\\anaconda3\\lib\\site-packages (from paramiko) (2.5)\n",
      "Requirement already satisfied: cffi>=1.1 in c:\\users\\ahmed\\anaconda3\\lib\\site-packages (from bcrypt>=3.1.3->paramiko) (1.12.1)\n",
      "Requirement already satisfied: six>=1.4.1 in c:\\users\\ahmed\\anaconda3\\lib\\site-packages (from bcrypt>=3.1.3->paramiko) (1.12.0)\n",
      "Requirement already satisfied: asn1crypto>=0.21.0 in c:\\users\\ahmed\\anaconda3\\lib\\site-packages (from cryptography>=2.5->paramiko) (0.24.0)\n",
      "Requirement already satisfied: pycparser in c:\\users\\ahmed\\anaconda3\\lib\\site-packages (from cffi>=1.1->bcrypt>=3.1.3->paramiko) (2.19)\n",
      "Installing collected packages: bcrypt, pynacl, paramiko\n",
      "Successfully installed bcrypt-3.1.7 paramiko-2.7.1 pynacl-1.3.0\n"
     ]
    }
   ],
   "source": [
    "# Install libs\n",
    "import sys\n",
    "!{sys.executable} -m pip install paramiko"
   ]
  },
  {
   "cell_type": "code",
   "execution_count": 23,
   "metadata": {},
   "outputs": [],
   "source": [
    "# Libraries import \n",
    "import paramiko\n",
    "import select\n",
    "import json"
   ]
  },
  {
   "cell_type": "code",
   "execution_count": 26,
   "metadata": {},
   "outputs": [],
   "source": [
    "# Read access details \n",
    "with open('config.json') as f:\n",
    "    data = json.load(f)\n"
   ]
  },
  {
   "cell_type": "code",
   "execution_count": 27,
   "metadata": {},
   "outputs": [],
   "source": [
    "#Connect to server ps: make sure VPN is on \n",
    "client = paramiko.SSHClient()\n",
    "client.load_system_host_keys()\n",
    "client.set_missing_host_key_policy(paramiko.AutoAddPolicy())\n",
    "client.connect(data['host'], username=data['username'], password=data['password'])\n",
    "transport = client.get_transport()"
   ]
  },
  {
   "cell_type": "code",
   "execution_count": 28,
   "metadata": {},
   "outputs": [
    {
     "name": "stdout",
     "output_type": "stream",
     "text": [
      "b'<mediawiki xmlns=\"http://www.mediawiki.org/xml/export-0.10/\" xmlns:xsi=\"http://www.w3.org/2001/XMLSchema-instance\" xsi:schemaLocation=\"http://www.mediawiki.org/xml/export-0.10/ http://www.mediawiki.org/xml/export-0.10.xsd\" version=\"0.10\" xml:lang=\"en\">\\n  <siteinfo>\\n    <sitename>Wikipedia</sitename>\\n    <dbname>enwiki</dbname>\\n    <base>https://en.wikipedia.org/wiki/Main_Page</base>\\n    <generator>MediaWiki 1.33.0-wmf.14</generator>\\n    <case>first-letter</case>\\n    <namespaces>\\n      <namespace key=\"-2\" case=\"first-letter\">Media</namespace>\\n      <namespace key=\"-1\" case=\"first-letter\">Special</namespace>\\n      <namespace key=\"0\" case=\"first-letter\" />\\n      <namespace key=\"1\" case=\"first-letter\">Talk</namespace>\\n      <namespace key=\"2\" case=\"first-letter\">User</namespace>\\n      <namespace key=\"3\" case=\"first-letter\">User talk</namespace>\\n      <namespace key=\"4\" case=\"first-letter\">Wikipedia</namespace>\\n      <namespace key=\"5\" case=\"first-letter\">Wikipedia talk</namespace>\\n      <namespace key=\"6\" case=\"f'\n"
     ]
    }
   ],
   "source": [
    "Execute command \n",
    "channel = transport.open_session()\n",
    "channel.exec_command(\"cat ./wikidump/enwiki-20190201-pages-meta-history27.xml-p53988643p54279382\")\n",
    "while True:\n",
    "  rl, wl, xl = select.select([channel],[],[],0.0)\n",
    "  if len(rl) > 0:\n",
    "    print(channel.recv(1024))\n",
    "    break"
   ]
  },
  {
   "cell_type": "code",
   "execution_count": null,
   "metadata": {},
   "outputs": [],
   "source": []
  }
 ],
 "metadata": {
  "kernelspec": {
   "display_name": "Python 3",
   "language": "python",
   "name": "python3"
  },
  "language_info": {
   "codemirror_mode": {
    "name": "ipython",
    "version": 3
   },
   "file_extension": ".py",
   "mimetype": "text/x-python",
   "name": "python",
   "nbconvert_exporter": "python",
   "pygments_lexer": "ipython3",
   "version": "3.6.8"
  }
 },
 "nbformat": 4,
 "nbformat_minor": 2
}
